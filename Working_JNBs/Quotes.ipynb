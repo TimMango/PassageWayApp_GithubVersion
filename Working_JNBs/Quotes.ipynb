{
 "cells": [
  {
   "cell_type": "code",
   "execution_count": 1,
   "metadata": {},
   "outputs": [],
   "source": [
    "import wikiquote, random\n",
    "\n",
    "#class Searcher:\n",
    "    #def __init__(self, indexPath):\n",
    "    # store our index path\n",
    "    #self.indexPath = indexPath\n",
    "    \n",
    "def authorsearch():\n",
    "    wikilist = wikiquote.random_titles(max_titles= 10)\n",
    "    print(wikilist)\n",
    "    \n",
    "def quotesearch(author):\n",
    "    quote = random.choice(wikiquote.quotes(author))\n",
    "    print(quote, \"-\", author)"
   ]
  },
  {
   "cell_type": "code",
   "execution_count": 2,
   "metadata": {},
   "outputs": [],
   "source": [
    "wikilist = wikiquote.random_titles(max_titles= 10)\n",
    "wikioutput = []\n",
    "for i in range(0, len(wikilist)):\n",
    "    wikioutput.append(str(i) + \") \" + wikilist[i])    \n",
    "Wikistr = ' '.join([str(elem) for elem in wikioutput]) "
   ]
  },
  {
   "cell_type": "code",
   "execution_count": 8,
   "metadata": {},
   "outputs": [
    {
     "data": {
      "text/plain": [
       "\"Lev Vygotsky, Bruce Parry, 1108, Silent Running, Stages on Life's Way, Jen Wang, John Pratt, Elysium, Extremism, Awakening\""
      ]
     },
     "execution_count": 8,
     "metadata": {},
     "output_type": "execute_result"
    }
   ],
   "source": [
    "wikilist = wikiquote.random_titles(max_titles= 10)\n",
    "wikioutput = []\n",
    "for i in range(0, len(wikilist)):\n",
    "    wikioutput.append(wikilist[i])\n",
    "wikistr = ', '.join([str(elem) for elem in wikioutput])\n",
    "wikistr"
   ]
  },
  {
   "cell_type": "code",
   "execution_count": null,
   "metadata": {},
   "outputs": [],
   "source": []
  }
 ],
 "metadata": {
  "kernelspec": {
   "display_name": "Python 3",
   "language": "python",
   "name": "python3"
  },
  "language_info": {
   "codemirror_mode": {
    "name": "ipython",
    "version": 3
   },
   "file_extension": ".py",
   "mimetype": "text/x-python",
   "name": "python",
   "nbconvert_exporter": "python",
   "pygments_lexer": "ipython3",
   "version": "3.7.7"
  }
 },
 "nbformat": 4,
 "nbformat_minor": 2
}
